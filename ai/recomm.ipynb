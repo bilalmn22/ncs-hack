{
  "nbformat": 4,
  "nbformat_minor": 0,
  "metadata": {
    "colab": {
      "provenance": []
    },
    "kernelspec": {
      "name": "python3",
      "display_name": "Python 3"
    },
    "language_info": {
      "name": "python"
    }
  },
  "cells": [
    {
      "cell_type": "code",
      "source": [
        "# train_model.py\n",
        "\n",
        "import pandas as pd\n",
        "from sklearn.ensemble import RandomForestClassifier\n",
        "from sklearn.model_selection import train_test_split\n",
        "import joblib\n",
        "\n",
        "df = pd.read_csv(\"/content/training_data.csv\")\n",
        "X = df.drop(columns=[\"match\"])\n",
        "y = df[\"match\"]\n",
        "\n",
        "X_train, X_test, y_train, y_test = train_test_split(X, y, test_size=0.2)\n",
        "\n",
        "model = RandomForestClassifier(n_estimators=100, random_state=42)\n",
        "model.fit(X_train, y_train)\n",
        "\n",
        "joblib.dump(model, \"job_match_model.pkl\")\n",
        "print(\"✅ Model trained and saved to job_match_model.pkl\")\n"
      ],
      "metadata": {
        "colab": {
          "base_uri": "https://localhost:8080/"
        },
        "id": "sk6jks1kzWK6",
        "outputId": "b03da3de-d10a-49b0-e192-3030988fb18f"
      },
      "execution_count": null,
      "outputs": [
        {
          "output_type": "stream",
          "name": "stdout",
          "text": [
            "✅ Model trained and saved to job_match_model.pkl\n"
          ]
        }
      ]
    },
    {
      "cell_type": "code",
      "source": [
        "\n",
        "model = joblib.load(\"/content/job_match_model.pkl\")\n",
        "\n",
        "FEATURE_ORDER = [\n",
        "    'is_verified', 'engagement_rate', 'num_socials', 'followers',\n",
        "    'interest_travel', 'min_followers', 'platform_tiktok',\n",
        "    'tag_fashion', 'content_type_story', 'interest_fashion',\n",
        "    'platform_youtube', 'tag_beauty', 'content_type_reel',\n",
        "    'interest_fitness', 'tag_travel', 'interest_tech',\n",
        "    'platform_instagram', 'tag_gaming', 'content_type_video',\n",
        "    'tag_tech', 'tag_fitness', 'interest_gaming', 'content_type_photo',\n",
        "    'interest_beauty'\n",
        "]\n",
        "\n",
        "def predict(influencer, job):\n",
        "    features = {key: 0 for key in FEATURE_ORDER}\n",
        "\n",
        "    # Fill in numeric and boolean features\n",
        "    features[\"is_verified\"] = influencer.get(\"is_verified\", 0)\n",
        "    features[\"engagement_rate\"] = influencer.get(\"engagement_rate\", 0)\n",
        "    features[\"num_socials\"] = influencer.get(\"num_socials\", 0)\n",
        "    features[\"followers\"] = influencer.get(\"followers\", 0)\n",
        "    features[\"min_followers\"] = job.get(\"min_followers\", 0)\n",
        "\n",
        "    # Fill in categorical features\n",
        "    interest_key = f\"interest_{influencer.get('interest', '')}\"\n",
        "    platform_key = f\"platform_{job.get('platform', '')}\"\n",
        "    tag_key = f\"tag_{job.get('tag', '')}\"\n",
        "    content_type_key = f\"content_type_{job.get('content_type', '')}\"\n",
        "\n",
        "    if interest_key in features:\n",
        "        features[interest_key] = 1\n",
        "    if platform_key in features:\n",
        "        features[platform_key] = 1\n",
        "    if tag_key in features:\n",
        "        features[tag_key] = 1\n",
        "    if content_type_key in features:\n",
        "        features[content_type_key] = 1\n",
        "\n",
        "    # Create DataFrame with proper column order\n",
        "    df = pd.DataFrame([[features[key] for key in FEATURE_ORDER]], columns=FEATURE_ORDER)\n",
        "\n",
        "    score = model.predict_proba(df)[0][1]\n",
        "    return round(score, 2)\n",
        "\n",
        "# Example usage\n",
        "if __name__ == \"__main__\":\n",
        "    influencer = {\n",
        "        \"is_verified\": 1,\n",
        "        \"engagement_rate\": 0.12,\n",
        "        \"num_socials\": 3,\n",
        "        \"followers\": 12000,\n",
        "        \"interest\": \"tech\"\n",
        "    }\n",
        "\n",
        "    job = {\n",
        "        \"min_followers\": 5000,\n",
        "        \"platform\": \"instagram\",\n",
        "        \"tag\": \"tech\",\n",
        "        \"content_type\": \"story\"\n",
        "    }\n",
        "\n",
        "    print(\"🔮 Match score:\", predict(influencer, job))\n"
      ],
      "metadata": {
        "colab": {
          "base_uri": "https://localhost:8080/"
        },
        "id": "_RF_sfcY06V-",
        "outputId": "cb341329-f12a-44ba-dbfd-57ca9ada94c7"
      },
      "execution_count": null,
      "outputs": [
        {
          "output_type": "stream",
          "name": "stdout",
          "text": [
            "🔮 Match score: 0.14\n"
          ]
        }
      ]
    },
    {
      "cell_type": "code",
      "source": [
        "\n",
        "from sklearn.metrics import classification_report, roc_auc_score\n",
        "\n",
        "# Load your trained model\n",
        "model = joblib.load(\"/content/job_match_model.pkl\")\n",
        "\n",
        "# Feature order from your trained model\n",
        "FEATURE_ORDER = [\n",
        "    'is_verified', 'engagement_rate', 'num_socials', 'followers',\n",
        "    'interest_travel', 'min_followers', 'platform_tiktok',\n",
        "    'tag_fashion', 'content_type_story', 'interest_fashion',\n",
        "    'platform_youtube', 'tag_beauty', 'content_type_reel',\n",
        "    'interest_fitness', 'tag_travel', 'interest_tech',\n",
        "    'platform_instagram', 'tag_gaming', 'content_type_video',\n",
        "    'tag_tech', 'tag_fitness', 'interest_gaming', 'content_type_photo',\n",
        "    'interest_beauty'\n",
        "]\n",
        "\n",
        "def create_feature_vector(influencer, job):\n",
        "    features = {key: 0 for key in FEATURE_ORDER}\n",
        "\n",
        "    # Numeric / boolean features\n",
        "    features[\"is_verified\"] = influencer.get(\"is_verified\", 0)\n",
        "    features[\"engagement_rate\"] = influencer.get(\"engagement_rate\", 0)\n",
        "    features[\"num_socials\"] = influencer.get(\"num_socials\", 0)\n",
        "    features[\"followers\"] = influencer.get(\"followers\", 0)\n",
        "    features[\"min_followers\"] = job.get(\"min_followers\", 0)\n",
        "\n",
        "    # Categorical one-hot encoded features\n",
        "    interest_key = f\"interest_{influencer.get('interest', '')}\"\n",
        "    platform_key = f\"platform_{job.get('platform', '')}\"\n",
        "    tag_key = f\"tag_{job.get('tag', '')}\"\n",
        "    content_type_key = f\"content_type_{job.get('content_type', '')}\"\n",
        "\n",
        "    if interest_key in features:\n",
        "        features[interest_key] = 1\n",
        "    if platform_key in features:\n",
        "        features[platform_key] = 1\n",
        "    if tag_key in features:\n",
        "        features[tag_key] = 1\n",
        "    if content_type_key in features:\n",
        "        features[content_type_key] = 1\n",
        "\n",
        "    return [features[key] for key in FEATURE_ORDER]\n",
        "\n",
        "# === Generate Fake Test Data ===\n",
        "# For a real project, replace this with your labeled test set!\n",
        "\n",
        "def generate_fake_test_data(n=100):\n",
        "    np.random.seed(42)\n",
        "    influencers = []\n",
        "    jobs = []\n",
        "    labels = []\n",
        "\n",
        "    possible_interests = [\"travel\", \"fashion\", \"fitness\", \"tech\", \"gaming\", \"beauty\"]\n",
        "    possible_platforms = [\"tiktok\", \"youtube\", \"instagram\"]\n",
        "    possible_tags = [\"fashion\", \"beauty\", \"travel\", \"tech\", \"gaming\", \"fitness\"]\n",
        "    possible_content_types = [\"story\", \"reel\", \"video\", \"photo\"]\n",
        "\n",
        "    for _ in range(n):\n",
        "        influencer = {\n",
        "            \"is_verified\": np.random.choice([0, 1]),\n",
        "            \"engagement_rate\": np.random.uniform(0, 0.2),\n",
        "            \"num_socials\": np.random.randint(1, 5),\n",
        "            \"followers\": np.random.randint(1000, 50000),\n",
        "            \"interest\": np.random.choice(possible_interests),\n",
        "        }\n",
        "        job = {\n",
        "            \"min_followers\": np.random.randint(500, 20000),\n",
        "            \"platform\": np.random.choice(possible_platforms),\n",
        "            \"tag\": np.random.choice(possible_tags),\n",
        "            \"content_type\": np.random.choice(possible_content_types),\n",
        "        }\n",
        "\n",
        "        # Simple labeling logic for fake ground truth (for demo only):\n",
        "        # If influencer's followers > job's min_followers and interest matches tag, label=1 else 0\n",
        "        label = int((influencer[\"followers\"] >= job[\"min_followers\"]) and\n",
        "                    (influencer[\"interest\"] == job[\"tag\"]))\n",
        "\n",
        "        influencers.append(influencer)\n",
        "        jobs.append(job)\n",
        "        labels.append(label)\n",
        "\n",
        "    return influencers, jobs, labels\n",
        "\n",
        "\n",
        "if __name__ == \"__main__\":\n",
        "    influencers, jobs, y_true = generate_fake_test_data(n=200)\n",
        "\n",
        "    # Convert to feature vectors\n",
        "    X_test = [create_feature_vector(influ, job) for influ, job in zip(influencers, jobs)]\n",
        "    X_test = pd.DataFrame(X_test, columns=FEATURE_ORDER)\n",
        "\n",
        "    # Predict probabilities\n",
        "    y_scores = model.predict_proba(X_test)[:, 1]\n",
        "\n",
        "    # Default threshold 0.5\n",
        "    y_pred = (y_scores >= 0.5).astype(int)\n",
        "\n",
        "    # Print classification report\n",
        "    print(\"Classification Report:\\n\")\n",
        "    print(classification_report(y_true, y_pred))\n",
        "\n",
        "    # Print ROC-AUC score\n",
        "    roc_auc = roc_auc_score(y_true, y_scores)\n",
        "    print(f\"ROC AUC Score: {roc_auc:.3f}\")\n"
      ],
      "metadata": {
        "colab": {
          "base_uri": "https://localhost:8080/"
        },
        "id": "6cTFOZLy1dgD",
        "outputId": "43c6d6e3-911a-467c-daa0-2bb107f61c0d"
      },
      "execution_count": null,
      "outputs": [
        {
          "output_type": "stream",
          "name": "stdout",
          "text": [
            "Classification Report:\n",
            "\n",
            "              precision    recall  f1-score   support\n",
            "\n",
            "           0       0.86      1.00      0.93       173\n",
            "           1       0.00      0.00      0.00        27\n",
            "\n",
            "    accuracy                           0.86       200\n",
            "   macro avg       0.43      0.50      0.46       200\n",
            "weighted avg       0.75      0.86      0.80       200\n",
            "\n",
            "ROC AUC Score: 0.997\n"
          ]
        },
        {
          "output_type": "stream",
          "name": "stderr",
          "text": [
            "/usr/local/lib/python3.11/dist-packages/sklearn/metrics/_classification.py:1565: UndefinedMetricWarning: Precision is ill-defined and being set to 0.0 in labels with no predicted samples. Use `zero_division` parameter to control this behavior.\n",
            "  _warn_prf(average, modifier, f\"{metric.capitalize()} is\", len(result))\n",
            "/usr/local/lib/python3.11/dist-packages/sklearn/metrics/_classification.py:1565: UndefinedMetricWarning: Precision is ill-defined and being set to 0.0 in labels with no predicted samples. Use `zero_division` parameter to control this behavior.\n",
            "  _warn_prf(average, modifier, f\"{metric.capitalize()} is\", len(result))\n",
            "/usr/local/lib/python3.11/dist-packages/sklearn/metrics/_classification.py:1565: UndefinedMetricWarning: Precision is ill-defined and being set to 0.0 in labels with no predicted samples. Use `zero_division` parameter to control this behavior.\n",
            "  _warn_prf(average, modifier, f\"{metric.capitalize()} is\", len(result))\n"
          ]
        }
      ]
    },
    {
      "cell_type": "code",
      "source": [
        "threshold = 0.2  # Lower than 0.5 to catch more positives\n",
        "y_pred = (y_scores >= threshold).astype(int)\n"
      ],
      "metadata": {
        "id": "KizDowH01jeI"
      },
      "execution_count": null,
      "outputs": []
    },
    {
      "cell_type": "code",
      "source": [
        "import matplotlib.pyplot as plt\n",
        "from sklearn.metrics import precision_recall_curve\n",
        "\n",
        "precision, recall, thresholds = precision_recall_curve(y_true, y_scores)\n",
        "\n",
        "plt.plot(thresholds, precision[:-1], label=\"Precision\")\n",
        "plt.plot(thresholds, recall[:-1], label=\"Recall\")\n",
        "plt.xlabel(\"Threshold\")\n",
        "plt.legend()\n",
        "plt.show()\n"
      ],
      "metadata": {
        "colab": {
          "base_uri": "https://localhost:8080/",
          "height": 449
        },
        "id": "QorTmNwd2qXc",
        "outputId": "eb3d9194-e489-48a4-e253-6d3483fbb47d"
      },
      "execution_count": null,
      "outputs": [
        {
          "output_type": "display_data",
          "data": {
            "text/plain": [
              "<Figure size 640x480 with 1 Axes>"
            ],
            "image/png": "[encoded data removed]"
          },
          "metadata": {}
        }
      ]
    },
    {
      "cell_type": "code",
      "source": [
        "threshold = 0.2\n",
        "y_pred = (y_scores >= threshold).astype(int)\n",
        "print(classification_report(y_true, y_pred))\n"
      ],
      "metadata": {
        "colab": {
          "base_uri": "https://localhost:8080/"
        },
        "id": "p1_QIJ8j2sVg",
        "outputId": "b043ffa0-6c44-4b5b-f802-e6cee0c36013"
      },
      "execution_count": null,
      "outputs": [
        {
          "output_type": "stream",
          "name": "stdout",
          "text": [
            "              precision    recall  f1-score   support\n",
            "\n",
            "           0       0.97      0.99      0.98       173\n",
            "           1       0.96      0.81      0.88        27\n",
            "\n",
            "    accuracy                           0.97       200\n",
            "   macro avg       0.96      0.90      0.93       200\n",
            "weighted avg       0.97      0.97      0.97       200\n",
            "\n"
          ]
        }
      ]
    },
    {
      "cell_type": "code",
      "source": [
        "\n",
        "joblib.dump(model, \"job_match_model_LAST.pkl\")\n"
      ],
      "metadata": {
        "colab": {
          "base_uri": "https://localhost:8080/"
        },
        "id": "qjOxEXWN2xpo",
        "outputId": "553257b7-aafb-4d1f-dcc6-78a95966f94f"
      },
      "execution_count": null,
      "outputs": [
        {
          "output_type": "execute_result",
          "data": {
            "text/plain": [
              "['job_match_model_LAST.pkl']"
            ]
          },
          "metadata": {},
          "execution_count": 23
        }
      ]
    },
    {
      "cell_type": "code",
      "source": [
        "def plot_feature_importance(model, feature_names, top_n=10):\n",
        "    importances = model.feature_importances_\n",
        "    indices = np.argsort(importances)[::-1][:top_n]\n",
        "    plt.figure(figsize=(10, 5))\n",
        "    plt.title(\"Top Feature Importances\")\n",
        "    plt.barh(range(top_n), importances[indices], color=\"skyblue\", align=\"center\")\n",
        "    plt.yticks(range(top_n), [feature_names[i] for i in indices])\n",
        "    plt.gca().invert_yaxis()\n",
        "    plt.show()\n",
        "\n",
        "# Call it:\n",
        "plot_feature_importance(model, ALL_FEATURES)\n"
      ],
      "metadata": {
        "colab": {
          "base_uri": "https://localhost:8080/",
          "height": 468
        },
        "id": "OxaYrpcrODKt",
        "outputId": "40fac630-97ad-46f0-a839-33fdf733f94b"
      },
      "execution_count": null,
      "outputs": [
        {
          "output_type": "display_data",
          "data": {
            "text/plain": [
              "<Figure size 1000x500 with 1 Axes>"
            ],
            "image/png": "[encoded data removed]"
          },
          "metadata": {}
        }
      ]
    },
    {
      "cell_type": "code",
      "source": [
        "def plot_class_distribution(y):\n",
        "    labels = ['Not Match (0)', 'Match (1)']\n",
        "    counts = [sum(y==0), sum(y==1)]\n",
        "\n",
        "    plt.figure(figsize=(5, 5))\n",
        "    plt.pie(counts, labels=labels, autopct='%1.1f%%', colors=['#ff9999','#66b3ff'])\n",
        "    plt.title(\"Class Distribution in Training Data\")\n",
        "    plt.show()\n"
      ],
      "metadata": {
        "id": "F65_3eP6OQNt"
      },
      "execution_count": null,
      "outputs": []
    },
    {
      "cell_type": "code",
      "source": [
        "def predict(influencer, job):\n",
        "    # Build the features dict with string keys\n",
        "    features = {\n",
        "        \"is_verified\": influencer[\"is_verified\"],\n",
        "        \"engagement_rate\": influencer[\"engagement_rate\"],\n",
        "        \"num_socials\": influencer[\"num_socials\"],\n",
        "        \"followers\": influencer[\"followers\"],\n",
        "        f\"interest_{influencer['interest']}\": 1,\n",
        "        \"min_followers\": job[\"min_followers\"],\n",
        "        f\"platform_{job['platform']}\": 1,\n",
        "        f\"tag_{job['tag']}\": 1,\n",
        "        f\"content_type_{job['content_type']}\": 1,\n",
        "    }\n",
        "\n",
        "    # Fill missing features with 0, ensuring keys are strings\n",
        "    for name in feature_names:\n",
        "        if name not in features:\n",
        "            features[name] = 0\n",
        "\n",
        "    # Create DataFrame with string column names\n",
        "    df = pd.DataFrame([features])\n",
        "    df.columns = df.columns.astype(str)  # explicitly convert all column names to strings\n",
        "\n",
        "    # Predict probability\n",
        "    score = model.predict_proba(df)[0][1]\n",
        "    return round(score, 2)\n"
      ],
      "metadata": {
        "id": "2j46l1kVOhKk"
      },
      "execution_count": null,
      "outputs": []
    },
    {
      "cell_type": "code",
      "source": [
        "feature_names = [\n",
        "    'is_verified', 'engagement_rate', 'num_socials', 'followers',\n",
        "    'interest_travel', 'min_followers', 'platform_tiktok', 'tag_fashion', 'content_type_story',\n",
        "    'interest_fashion', 'platform_youtube', 'tag_beauty', 'content_type_reel',\n",
        "    'interest_fitness', 'tag_travel', 'interest_tech', 'platform_instagram',\n",
        "    'tag_gaming', 'content_type_video', 'tag_tech', 'tag_fitness', 'interest_gaming',\n",
        "    'content_type_photo', 'interest_beauty'\n",
        "]\n"
      ],
      "metadata": {
        "id": "0PTzZXc4PbUZ"
      },
      "execution_count": null,
      "outputs": []
    },
    {
      "cell_type": "code",
      "source": [
        "import joblib\n",
        "joblib.dump(feature_names, \"feature_names.pkl\")\n"
      ],
      "metadata": {
        "colab": {
          "base_uri": "https://localhost:8080/"
        },
        "id": "sPv7DVmTPlVh",
        "outputId": "c04933fc-38a3-4882-a220-1bebce55a0af"
      },
      "execution_count": null,
      "outputs": [
        {
          "output_type": "execute_result",
          "data": {
            "text/plain": [
              "['feature_names.pkl']"
            ]
          },
          "metadata": {},
          "execution_count": 55
        }
      ]
    },
    {
      "cell_type": "code",
      "source": [
        "feature_names = joblib.load(\"feature_names.pkl\")\n"
      ],
      "metadata": {
        "id": "58j8JMuUPrbd"
      },
      "execution_count": null,
      "outputs": []
    },
    {
      "cell_type": "code",
      "source": [
        "def predict(influencer, job):\n",
        "    features = {\n",
        "        \"is_verified\": influencer[\"is_verified\"],\n",
        "        \"engagement_rate\": influencer[\"engagement_rate\"],\n",
        "        \"num_socials\": influencer[\"num_socials\"],\n",
        "        \"followers\": influencer[\"followers\"],\n",
        "        f\"interest_{influencer['interest']}\": 1,\n",
        "        \"min_followers\": job[\"min_followers\"],\n",
        "        f\"platform_{job['platform']}\": 1,\n",
        "        f\"tag_{job['tag']}\": 1,\n",
        "        f\"content_type_{job['content_type']}\": 1,\n",
        "    }\n",
        "\n",
        "    # Fill missing features with 0\n",
        "    for feat in feature_names:\n",
        "        if feat not in features:\n",
        "            features[feat] = 0\n",
        "\n",
        "    df = pd.DataFrame([features])\n",
        "    df.columns = df.columns.astype(str)\n",
        "\n",
        "    score = model.predict_proba(df)[0][1]\n",
        "    return round(score, 2)\n",
        "\n"
      ],
      "metadata": {
        "id": "PfQMyOiiPvtD"
      },
      "execution_count": null,
      "outputs": []
    },
    {
      "cell_type": "code",
      "source": [
        "plt.figure(figsize=(8,6))\n",
        "plt.hist(y_scores, bins=20, color='teal', alpha=0.7)\n",
        "plt.xlabel(\"Predicted Match Score\")\n",
        "plt.ylabel(\"Frequency\")\n",
        "plt.title(\"Distribution of Predicted Match Scores\")\n",
        "plt.show()\n"
      ],
      "metadata": {
        "colab": {
          "base_uri": "https://localhost:8080/",
          "height": 564
        },
        "id": "Y1eTxGSnQXm2",
        "outputId": "6cd8c5c0-0506-4c6d-b19e-c6d209781010"
      },
      "execution_count": null,
      "outputs": [
        {
          "output_type": "display_data",
          "data": {
            "text/plain": [
              "<Figure size 800x600 with 1 Axes>"
            ],
            "image/png": "[encoded data removed]"
          },
          "metadata": {}
        }
      ]
    },
    {
      "cell_type": "code",
      "source": [
        "import pandas as pd\n",
        "\n",
        "sample_matches = [\n",
        "    {\"influencer\": \"Alice\", \"job_title\": \"Tech Review Campaign\", \"score\": 0.95},\n",
        "    {\"influencer\": \"Bob\", \"job_title\": \"Fashion Shoot\", \"score\": 0.89},\n",
        "    {\"influencer\": \"Carol\", \"job_title\": \"Fitness Brand Promo\", \"score\": 0.87},\n",
        "]\n",
        "\n",
        "df = pd.DataFrame(sample_matches)\n",
        "df.style.background_gradient(cmap='Greens')\n"
      ],
      "metadata": {
        "colab": {
          "base_uri": "https://localhost:8080/",
          "height": 143
        },
        "id": "Pct5z87_Qdym",
        "outputId": "6885158e-ca00-4873-dcfe-512e60806976"
      },
      "execution_count": null,
      "outputs": [
        {
          "output_type": "execute_result",
          "data": {
            "text/plain": [
              "<pandas.io.formats.style.Styler at 0x7bbe30a3b690>"
            ],
            "text/html": [
              "<style type=\"text/css\">\n",
              "#T_95f5b_row0_col2 {\n",
              "  background-color: #00441b;\n",
              "  color: #f1f1f1;\n",
              "}\n",
              "#T_95f5b_row1_col2 {\n",
              "  background-color: #c7e9c0;\n",
              "  color: #000000;\n",
              "}\n",
              "#T_95f5b_row2_col2 {\n",
              "  background-color: #f7fcf5;\n",
              "  color: #000000;\n",
              "}\n",
              "</style>\n",
              "<table id=\"T_95f5b\" class=\"dataframe\">\n",
              "  <thead>\n",
              "    <tr>\n",
              "      <th class=\"blank level0\" >&nbsp;</th>\n",
              "      <th id=\"T_95f5b_level0_col0\" class=\"col_heading level0 col0\" >influencer</th>\n",
              "      <th id=\"T_95f5b_level0_col1\" class=\"col_heading level0 col1\" >job_title</th>\n",
              "      <th id=\"T_95f5b_level0_col2\" class=\"col_heading level0 col2\" >score</th>\n",
              "    </tr>\n",
              "  </thead>\n",
              "  <tbody>\n",
              "    <tr>\n",
              "      <th id=\"T_95f5b_level0_row0\" class=\"row_heading level0 row0\" >0</th>\n",
              "      <td id=\"T_95f5b_row0_col0\" class=\"data row0 col0\" >Alice</td>\n",
              "      <td id=\"T_95f5b_row0_col1\" class=\"data row0 col1\" >Tech Review Campaign</td>\n",
              "      <td id=\"T_95f5b_row0_col2\" class=\"data row0 col2\" >0.950000</td>\n",
              "    </tr>\n",
              "    <tr>\n",
              "      <th id=\"T_95f5b_level0_row1\" class=\"row_heading level0 row1\" >1</th>\n",
              "      <td id=\"T_95f5b_row1_col0\" class=\"data row1 col0\" >Bob</td>\n",
              "      <td id=\"T_95f5b_row1_col1\" class=\"data row1 col1\" >Fashion Shoot</td>\n",
              "      <td id=\"T_95f5b_row1_col2\" class=\"data row1 col2\" >0.890000</td>\n",
              "    </tr>\n",
              "    <tr>\n",
              "      <th id=\"T_95f5b_level0_row2\" class=\"row_heading level0 row2\" >2</th>\n",
              "      <td id=\"T_95f5b_row2_col0\" class=\"data row2 col0\" >Carol</td>\n",
              "      <td id=\"T_95f5b_row2_col1\" class=\"data row2 col1\" >Fitness Brand Promo</td>\n",
              "      <td id=\"T_95f5b_row2_col2\" class=\"data row2 col2\" >0.870000</td>\n",
              "    </tr>\n",
              "  </tbody>\n",
              "</table>\n"
            ]
          },
          "metadata": {},
          "execution_count": 66
        }
      ]
    },
    {
      "cell_type": "code",
      "source": [],
      "metadata": {
        "id": "HyNOCG8WQgyu"
      },
      "execution_count": null,
      "outputs": []
    }
  ]
}